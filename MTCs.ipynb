{
 "cells": [
  {
   "attachments": {},
   "cell_type": "markdown",
   "metadata": {},
   "source": [
    "# ChessBot Research Project Playground\n",
    "here is where we can play against the bot (for now against ourself)"
   ]
  },
  {
   "cell_type": "code",
   "execution_count": 4,
   "metadata": {},
   "outputs": [],
   "source": [
    "import chess\n",
    "import chess.svg\n",
    "import chess.engine\n",
    "from IPython.display import display, clear_output\n",
    "import random\n",
    "from time import sleep\n",
    "import pickle\n",
    "import numpy as np"
   ]
  },
  {
   "cell_type": "code",
   "execution_count": 11,
   "metadata": {},
   "outputs": [],
   "source": [
    "def play_random_game(board):\n",
    "    while not board.is_game_over():\n",
    "        legal_moves = list(board.legal_moves)\n",
    "        move = random.choice(legal_moves)\n",
    "        board.push(move)\n",
    "    return board.result()\n",
    "\n",
    "def show_board(board):\n",
    "    display(chess.svg.board(board=board,size=400))"
   ]
  },
  {
   "cell_type": "code",
   "execution_count": 9,
   "metadata": {},
   "outputs": [],
   "source": [
    "class Node:\n",
    "    def __init__(self, board, parent=None):\n",
    "        self.board = board\n",
    "        self.parent = parent\n",
    "        self.children = []\n",
    "        self.visits = 0\n",
    "        self.wins = 0\n",
    "        self.untried_moves = list(self.board.legal_moves)\n",
    "\n",
    "    def expand(self):\n",
    "        move = random.choice(self.untried_moves)\n",
    "        self.untried_moves.remove(move)\n",
    "        new_board = self.board.copy()\n",
    "        new_board.push(move)\n",
    "        new_node = Node(new_board, self)\n",
    "        self.children.append(new_node)\n",
    "        return new_node\n",
    "        \n",
    "    def select_best_child(self):\n",
    "        best_score = -float('inf')\n",
    "        best_child = None\n",
    "        for child in self.children:\n",
    "            score = child.wins/child.visits + 0.5*np.sqrt(2*np.log(self.visits)/child.visits)\n",
    "            if score > best_score:\n",
    "                best_score = score\n",
    "                best_child = child\n",
    "        return best_child\n",
    "\n",
    "class MCTS:\n",
    "    def __init__(self, chess_game, simulations):\n",
    "        self.chess_game = chess_game\n",
    "        self.simulations = simulations\n",
    "        \n",
    "    def search(self):\n",
    "        root = Node(self.chess_game)\n",
    "        for i in range(self.simulations):\n",
    "            node = root\n",
    "            while node.untried_moves == [] and node.children != []:\n",
    "                node = node.select_best_child()\n",
    "            if node.untried_moves != []:\n",
    "                child = node.expand()\n",
    "                node = child\n",
    "            result = play_random_game(node.board)\n",
    "            while node != None:\n",
    "                node.visits += 1\n",
    "                if result == node.board.turn:\n",
    "                    node.wins += 1\n",
    "                node = node.parent\n",
    "        return max(root.children, key = lambda x: x.visits).board.pop()\n",
    "\n",
    "    def save(self):\n",
    "        with open('mcts_state.pickle', 'wb') as handle:\n",
    "            print(\"saving MCTS\")\n",
    "            pickle.dump(self, handle, protocol=pickle.HIGHEST_PROTOCOL)"
   ]
  },
  {
   "cell_type": "code",
   "execution_count": 12,
   "metadata": {},
   "outputs": [
    {
     "ename": "AttributeError",
     "evalue": "'Board' object has no attribute 'play_random_game'",
     "output_type": "error",
     "traceback": [
      "\u001b[1;31m---------------------------------------------------------------------------\u001b[0m",
      "\u001b[1;31mAttributeError\u001b[0m                            Traceback (most recent call last)",
      "Cell \u001b[1;32mIn[12], line 10\u001b[0m\n\u001b[0;32m      6\u001b[0m mcts \u001b[39m=\u001b[39m MCTS(game, sims_per_move)\n\u001b[0;32m      8\u001b[0m \u001b[39mfor\u001b[39;00m i \u001b[39min\u001b[39;00m \u001b[39mrange\u001b[39m(moves):\n\u001b[0;32m      9\u001b[0m     \u001b[39m# Make the best move according to the MCTS search\u001b[39;00m\n\u001b[1;32m---> 10\u001b[0m     move \u001b[39m=\u001b[39m mcts\u001b[39m.\u001b[39;49msearch()\n\u001b[0;32m     11\u001b[0m     game\u001b[39m.\u001b[39mpush(move)\n\u001b[0;32m     13\u001b[0m     \u001b[39m# Print the current game state\u001b[39;00m\n",
      "Cell \u001b[1;32mIn[9], line 43\u001b[0m, in \u001b[0;36mMCTS.search\u001b[1;34m(self)\u001b[0m\n\u001b[0;32m     41\u001b[0m     child \u001b[39m=\u001b[39m node\u001b[39m.\u001b[39mexpand()\n\u001b[0;32m     42\u001b[0m     node \u001b[39m=\u001b[39m child\n\u001b[1;32m---> 43\u001b[0m result \u001b[39m=\u001b[39m \u001b[39mself\u001b[39;49m\u001b[39m.\u001b[39;49mchess_game\u001b[39m.\u001b[39;49mplay_random_game(node\u001b[39m.\u001b[39mboard)\n\u001b[0;32m     44\u001b[0m \u001b[39mwhile\u001b[39;00m node \u001b[39m!=\u001b[39m \u001b[39mNone\u001b[39;00m:\n\u001b[0;32m     45\u001b[0m     node\u001b[39m.\u001b[39mvisits \u001b[39m+\u001b[39m\u001b[39m=\u001b[39m \u001b[39m1\u001b[39m\n",
      "\u001b[1;31mAttributeError\u001b[0m: 'Board' object has no attribute 'play_random_game'"
     ]
    }
   ],
   "source": [
    "sims_per_move = 1000\n",
    "moves = 100\n",
    "\n",
    "game = chess.Board()\n",
    "\n",
    "mcts = MCTS(game, sims_per_move)\n",
    "\n",
    "for i in range(moves):\n",
    "    # Make the best move according to the MCTS search\n",
    "    move = mcts.search()\n",
    "    game.push(move)\n",
    "    \n",
    "    # Print the current game state\n",
    "    show_board(game)\n",
    "\n",
    "    # check if the game is over\n",
    "    if game.is_game_over():\n",
    "        print(\"Game over. Result:\", game.result())\n",
    "        break\n",
    "    \n",
    "    # save the MCTS state\n",
    "    mcts.save()"
   ]
  }
 ],
 "metadata": {
  "kernelspec": {
   "display_name": "Research_project",
   "language": "python",
   "name": "python3"
  },
  "language_info": {
   "codemirror_mode": {
    "name": "ipython",
    "version": 3
   },
   "file_extension": ".py",
   "mimetype": "text/x-python",
   "name": "python",
   "nbconvert_exporter": "python",
   "pygments_lexer": "ipython3",
   "version": "3.8.15"
  },
  "orig_nbformat": 4,
  "vscode": {
   "interpreter": {
    "hash": "7b4e06623006622ccf26ee127abf28e800d2ddb94f6f97392cec3e70ecefd797"
   }
  }
 },
 "nbformat": 4,
 "nbformat_minor": 2
}
